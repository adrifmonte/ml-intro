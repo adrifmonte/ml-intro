{
 "cells": [
  {
   "cell_type": "markdown",
   "metadata": {
    "collapsed": true
   },
   "source": [
    "# Machine Learning Begins"
   ]
  },
  {
   "cell_type": "markdown",
   "metadata": {},
   "source": [
    "## Definition\n",
    "\n",
    "- definition\n",
    "\n",
    "![dilbert](images/intro/ml-dilbert.gif)"
   ]
  },
  {
   "cell_type": "markdown",
   "metadata": {},
   "source": [
    "[images](images/)"
   ]
  },
  {
   "cell_type": "markdown",
   "metadata": {},
   "source": [
    "## Scope\n",
    "\n",
    "- ai subway rails\n",
    "- ml vs analytics"
   ]
  },
  {
   "cell_type": "markdown",
   "metadata": {},
   "source": [
    "## Model\n",
    "\n",
    "- what is a ml model?\n",
    "- how does it fit my system architecture?"
   ]
  },
  {
   "cell_type": "markdown",
   "metadata": {},
   "source": [
    "## Types and Algorithms\n",
    "\n",
    "- types and algorithms table\n",
    "- do we need to know the internals? (http://www.kdnuggets.com/2016/05/implement-machine-learning-algorithms-scratch.html)\n",
    "\n",
    "- exercise!\n",
    "\n",
    "- table from http://en.proft.me/2015/12/24/types-machine-learning-algorithms/:\n",
    "Model\n",
    "Learning task\n",
    "Supervised Learning Algorithms\n",
    "Nearest Neighbor\n",
    "Classification\n",
    "Naive Bayes\n",
    "Classification\n",
    "Decision Trees\n",
    "Classification\n",
    "Classification Rule Learners\n",
    "Classification\n",
    "Linear Regression\n",
    "Numeric prediction\n",
    "Model Trees\n",
    "Numeric prediction\n",
    "Regression Trees\n",
    "\n",
    "Neural Networks\n",
    "Dual use\n",
    "Support Vector Machines\n",
    "Dual use\n",
    "Unsupervised Learning Algorithms\n",
    "Association Rules\n",
    "Pattern detection\n",
    "k-means clustering\n",
    "Clustering\n",
    "Meta-Learning Algorithms\n",
    "Bagging\n",
    "Dual use\n",
    "Boosting\n",
    "Dual use\n",
    "Random Forests\n",
    "Dual use\n",
    "\n",
    "- deep learning (http://www.kdnuggets.com/2016/01/seven-steps-deep-learning.html)"
   ]
  },
  {
   "cell_type": "markdown",
   "metadata": {},
   "source": [
    "## Technologies\n",
    "\n",
    "- python\n",
    "- jupyter\n",
    "- scikit-learn\n",
    "- numpy\n",
    "- pandas\n",
    "- matplotlib\n",
    "\n",
    "- keras\n",
    "- tensor flow\n",
    "- pyspark\n",
    "\n",
    "- d3\n",
    "- bokeh\n",
    "- tableau\n"
   ]
  },
  {
   "cell_type": "markdown",
   "metadata": {},
   "source": [
    "## Steps\n",
    "\n",
    "- problem/roi\n",
    "- data gathering\n",
    "- exploratory data analysis\n",
    "- data cleaning\n",
    "- feature engineering\n",
    " - bias\n",
    "- evaluation\n",
    " - underfitting\n",
    " - overfitting\n",
    "- tunning\n",
    " - cross validation\n",
    "- insert new data to predict"
   ]
  },
  {
   "cell_type": "markdown",
   "metadata": {},
   "source": [
    "## Learning from Disaster: Titanic"
   ]
  },
  {
   "cell_type": "markdown",
   "metadata": {},
   "source": [
    "### Problem"
   ]
  },
  {
   "cell_type": "markdown",
   "metadata": {},
   "source": [
    "### Data gathering"
   ]
  },
  {
   "cell_type": "markdown",
   "metadata": {},
   "source": [
    "### Understanding data"
   ]
  },
  {
   "cell_type": "markdown",
   "metadata": {},
   "source": [
    "### Data cleaning"
   ]
  },
  {
   "cell_type": "markdown",
   "metadata": {},
   "source": [
    "### Feature engineering"
   ]
  },
  {
   "cell_type": "markdown",
   "metadata": {},
   "source": [
    "### Evaluating"
   ]
  },
  {
   "cell_type": "markdown",
   "metadata": {},
   "source": [
    "### Tunning"
   ]
  }
 ],
 "metadata": {
  "kernelspec": {
   "display_name": "Python 3",
   "language": "python",
   "name": "python3"
  },
  "language_info": {
   "codemirror_mode": {
    "name": "ipython",
    "version": 3
   },
   "file_extension": ".py",
   "mimetype": "text/x-python",
   "name": "python",
   "nbconvert_exporter": "python",
   "pygments_lexer": "ipython3",
   "version": "3.6.1"
  }
 },
 "nbformat": 4,
 "nbformat_minor": 2
}
