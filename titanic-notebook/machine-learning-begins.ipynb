{
 "cells": [
  {
   "cell_type": "markdown",
   "metadata": {
    "collapsed": true
   },
   "source": [
    "# Machine Learning Begins"
   ]
  },
  {
   "cell_type": "markdown",
   "metadata": {},
   "source": [
    "## Definition\n",
    "\n",
    "![Boss: \"Internet is trying to kill me.\" Programmer: \"We call it 'Machine Learning'.\" - Dilbert.com (2013)](images/intro/ml-dilbert.gif)\n",
    "\n",
    "---\n",
    "\n",
    "> Machine Learning is a field of study that gives computers the ability to learn without being explicitly programmed.\n",
    "> \n",
    "> *Arthur Samuel (1959)*\n",
    "\n",
    "---\n",
    "\n",
    "> A computer is said to *learn* from experience E with respect to some task T and some performance measure P, if its performance on T, as measured by P, improves with experience E.\n",
    "> \n",
    "> *Tom Mitchell (1998)*\n",
    "\n",
    "---\n",
    "\n",
    "<sub>Source: [Coursera's \"What is Machine Learning?\" lecture](https://pt.coursera.org/learn/machine-learning/lecture/Ujm7v/what-is-machine-learning)</sub>\n"
   ]
  },
  {
   "cell_type": "markdown",
   "metadata": {},
   "source": [
    "## Scope\n",
    "\n",
    "![Artificial Intelligence (AI) is any technique that enables computers to mimic human behavior such as voice, vision, brain. Machine Learning (ML) is a subset of AI which enables computers to learn by giving experiences. Deep Learning (DL) is a subset of ML that works with multi-layer neural networks.](images/intro/ai_ml_dl.jpg)"
   ]
  },
  {
   "cell_type": "markdown",
   "metadata": {},
   "source": [
    "## Hype\n",
    "\n",
    "![In 2017, Machine Learning comes right after Deep Learning, which is exactly on top the \"Peak of inflated expectations\" - Gartner's Hype Cycle for Emerging Technologies, 2017](images/intro/gartner-hype-cycle-for-emerging-technologies-2017.jpg)"
   ]
  },
  {
   "cell_type": "markdown",
   "metadata": {},
   "source": [
    "## Skills\n",
    "\n",
    "### Data Science Metromap\n",
    "\n",
    "![Metromap: Fundamentals, Statistics, Programming, Machine Learning, Text mining/NLP, Visualization, Big Data, Data Munging, Data Ingestion, Toolbox](images/intro/data-science-roadmap.png)\n",
    "\n",
    "### Typical kind of machine learning material we find in internet\n",
    "\n",
    "- How neural network layers internally work\n",
    "\n",
    "![](images/intro/neural-network-internals.jpeg)\n",
    "\n",
    "---\n",
    "\n",
    "- Regularized linear regression formula\n",
    "\n",
    "![](images/intro/regularized-linear-regression.png)\n",
    "\n",
    "\n",
    "### Typical reactions\n",
    "\n",
    "![Jurassic Park character getting his glasses off in fear.](images/intro/sam-neill-glasses-off-jurassic-park.gif)\n",
    "\n",
    "---\n",
    "\n",
    "![Jurassic Park character trembling with fear.](images/intro/jurassic-park.gif)\n",
    "\n",
    "### Typical concerns\n",
    "\n",
    "> But I won't manage to master everything!\n",
    "\n",
    "---\n",
    "\n",
    "> But I don't understand those formulas!\n",
    "\n",
    "---\n",
    "\n",
    "> But I can't exactly understand how the internals work!\n",
    "\n",
    "### Keep calm and study machine learning :)\n",
    "\n",
    "> We can start just understanding how different algorithms work and how to use them to solve problems!\n",
    "\n",
    "### Machine Learning Pyramid\n",
    "\n",
    "![Data Engineers knows how to extract and transform data structures in different infrastructures with performance, quality, scalability, and reliability. Machine Learning Engineers understands and knows how to use different algorithms to create solutions. Machine Learning Researchers creates new algorithms, paradigms, and mathematical models.](images/intro/skills-pyramid.png)\n"
   ]
  },
  {
   "cell_type": "markdown",
   "metadata": {},
   "source": [
    "\n",
    "## Model\n",
    "\n",
    "### Simple workflow\n",
    "\n",
    "![In broad words, a typical machine learning process workflow consists in passing your data as the input to a machine learning algorithm that will generate a machine learning model as the output, so you have a prediction service to better understand new data, based on the past.](images/workflow/typical-workflow.jpg)\n",
    "\n",
    "### Supervised learning workflow (example with an image as trinput)\n",
    "\n",
    "![In detail, in a supervised learning example (we'll understand each type in the next section), ](images/workflow/machine-learning-phases.png)"
   ]
  },
  {
   "cell_type": "markdown",
   "metadata": {},
   "source": [
    "## Types and Algorithms\n",
    "\n",
    "- types and algorithms table\n",
    "- do we need to know the internals? (http://www.kdnuggets.com/2016/05/implement-machine-learning-algorithms-scratch.html)\n",
    "\n",
    "- exercise!\n",
    "\n",
    "- table from http://en.proft.me/2015/12/24/types-machine-learning-algorithms/:\n",
    "Model\n",
    "Learning task\n",
    "Supervised Learning Algorithms\n",
    "Nearest Neighbor\n",
    "Classification\n",
    "Naive Bayes\n",
    "Classification\n",
    "Decision Trees\n",
    "Classification\n",
    "Classification Rule Learners\n",
    "Classification\n",
    "Linear Regression\n",
    "Numeric prediction\n",
    "Model Trees\n",
    "Numeric prediction\n",
    "Regression Trees\n",
    "\n",
    "Neural Networks\n",
    "Dual use\n",
    "Support Vector Machines\n",
    "Dual use\n",
    "Unsupervised Learning Algorithms\n",
    "Association Rules\n",
    "Pattern detection\n",
    "k-means clustering\n",
    "Clustering\n",
    "Meta-Learning Algorithms\n",
    "Bagging\n",
    "Dual use\n",
    "Boosting\n",
    "Dual use\n",
    "Random Forests\n",
    "Dual use\n",
    "\n",
    "- deep learning (http://www.kdnuggets.com/2016/01/seven-steps-deep-learning.html)"
   ]
  },
  {
   "cell_type": "markdown",
   "metadata": {},
   "source": [
    "## Technologies\n",
    "\n",
    "- python\n",
    "- jupyter\n",
    "- scikit-learn\n",
    "- numpy\n",
    "- pandas\n",
    "- matplotlib\n",
    "\n",
    "- keras\n",
    "- tensor flow\n",
    "- pyspark\n",
    "\n",
    "- d3\n",
    "- bokeh\n",
    "- tableau\n"
   ]
  },
  {
   "cell_type": "markdown",
   "metadata": {},
   "source": [
    "## Steps\n",
    "\n",
    "- problem/roi\n",
    "- data gathering\n",
    "- exploratory data analysis\n",
    "- data cleaning\n",
    "- feature engineering\n",
    " - bias\n",
    "- evaluation\n",
    " - underfitting\n",
    " - overfitting\n",
    "- tunning\n",
    " - cross validation\n",
    "- insert new data to predict"
   ]
  },
  {
   "cell_type": "markdown",
   "metadata": {},
   "source": [
    "## Learning from Disaster: Titanic"
   ]
  },
  {
   "cell_type": "markdown",
   "metadata": {},
   "source": [
    "### Problem"
   ]
  },
  {
   "cell_type": "markdown",
   "metadata": {},
   "source": [
    "### Data gathering"
   ]
  },
  {
   "cell_type": "markdown",
   "metadata": {},
   "source": [
    "### Understanding data"
   ]
  },
  {
   "cell_type": "markdown",
   "metadata": {},
   "source": [
    "### Data cleaning"
   ]
  },
  {
   "cell_type": "markdown",
   "metadata": {},
   "source": [
    "### Feature engineering"
   ]
  },
  {
   "cell_type": "markdown",
   "metadata": {},
   "source": [
    "### Evaluating"
   ]
  },
  {
   "cell_type": "markdown",
   "metadata": {},
   "source": [
    "### Tunning"
   ]
  }
 ],
 "metadata": {
  "kernelspec": {
   "display_name": "Python 3",
   "language": "python",
   "name": "python3"
  },
  "language_info": {
   "codemirror_mode": {
    "name": "ipython",
    "version": 3
   },
   "file_extension": ".py",
   "mimetype": "text/x-python",
   "name": "python",
   "nbconvert_exporter": "python",
   "pygments_lexer": "ipython3",
   "version": "3.6.1"
  }
 },
 "nbformat": 4,
 "nbformat_minor": 2
}
