{
 "cells": [
  {
   "cell_type": "markdown",
   "metadata": {
    "collapsed": true
   },
   "source": [
    "# Machine Learning Begins"
   ]
  },
  {
   "cell_type": "markdown",
   "metadata": {},
   "source": [
    "## Definition\n",
    "\n",
    "![Boss: \"Internet is trying to kill me.\" Programmer: \"We call it 'Machine Learning'.\" - Dilbert.com (2013)](images/intro/ml-dilbert.gif)\n",
    "\n",
    "---\n",
    "\n",
    "> Machine Learning is a field of study that gives computers the ability to learn without being explicitly programmed.\n",
    "> \n",
    "> *Arthur Samuel (1959)*\n",
    "\n",
    "---\n",
    "\n",
    "> A computer is said to *learn* from experience E with respect to some task T and some performance measure P, if its performance on T, as measured by P, improves with experience E.\n",
    "> \n",
    "> *Tom Mitchell (1998)*\n",
    "\n",
    "---\n",
    "\n",
    "<sub>Source: [Coursera's \"What is Machine Learning?\" lecture](https://pt.coursera.org/learn/machine-learning/lecture/Ujm7v/what-is-machine-learning)</sub>\n"
   ]
  },
  {
   "cell_type": "markdown",
   "metadata": {},
   "source": [
    "## Scope\n",
    "\n",
    "![Artificial Intelligence (AI) is any technique that enables computers to mimic human behavior such as voice, vision, brain. Machine Learning (ML) is a subset of AI which enables computers to learn by giving experiences. Deep Learning (DL) is a subset of ML that works with multi-layer neural networks.](images/intro/ai_ml_dl.jpg)"
   ]
  },
  {
   "cell_type": "markdown",
   "metadata": {},
   "source": [
    "## Hype\n",
    "\n",
    "![In 2017, Machine Learning comes right after Deep Learning, which is exactly on top the \"Peak of inflated expectations\" - Gartner's Hype Cycle for Emerging Technologies, 2017](images/intro/gartner-hype-cycle-for-emerging-technologies-2017.jpg)"
   ]
  },
  {
   "cell_type": "markdown",
   "metadata": {},
   "source": [
    "## Skill set\n",
    "\n",
    "### Data Science Metromap\n",
    "\n",
    "![Metromap: Fundamentals, Statistics, Programming, Machine Learning, Text mining/NLP, Visualization, Big Data, Data Munging, Data Ingestion, Toolbox](images/intro/data-science-roadmap.png)\n",
    "\n",
    "### Typical kind of resources we find in the web\n",
    "\n",
    "> How neural network layers internally work\n",
    "\n",
    "![](images/intro/neural-network-internals.jpeg)\n",
    "\n",
    "---\n",
    "\n",
    "> Regularized linear regression formula\n",
    "\n",
    "![](images/intro/regularized-linear-regression.png)\n",
    "\n",
    "\n",
    "### Typical reactions\n",
    "\n",
    "![Jurassic Park character getting his glasses off in fear.](images/intro/sam-neill-glasses-off-jurassic-park.gif)\n",
    "\n",
    "---\n",
    "\n",
    "![Jurassic Park character trembling with fear.](images/intro/jurassic-park.gif)\n",
    "\n",
    "### Typical concerns\n",
    "\n",
    "> But I won't manage to master everything on Data Science Metromap!\n",
    "\n",
    "---\n",
    "\n",
    "> But I don't understand those mathematical formulas! I'm not an statistician!\n",
    "\n",
    "---\n",
    "\n",
    "> But I can't understand exactly how the [internals](http://www.kdnuggets.com/2016/05/implement-machine-learning-algorithms-scratch.html) work!\n",
    "\n",
    "---\n",
    "\n",
    "> But I don't have Big Data!\n",
    "\n",
    "### Machine Learning Pyramid\n",
    "\n",
    "![Data Engineers knows how to extract and transform data structures in different infrastructures with performance, quality, scalability, and reliability. Machine Learning Engineers understands and knows how to use different algorithms to create solutions. Machine Learning Researchers creates new algorithms, paradigms, and mathematical models.](images/intro/skills-pyramid.png)\n",
    "\n",
    "### Baby steps\n",
    "\n",
    "> We can start just understanding how different algorithms work and when and how to use them to solve problems!\n",
    "\n",
    "![Keep calm and learn machine learning](images/intro/keep-calm-and-learn-machine-learning.jpg)"
   ]
  },
  {
   "cell_type": "markdown",
   "metadata": {},
   "source": [
    "## Model\n",
    "\n",
    "- Simple workflow (generic example)\n",
    "\n",
    "![In broad words, a typical machine learning process workflow consists in passing your data as the input to a machine learning algorithm that will generate a machine learning model as the output, so you have a prediction service to better understand new data, based on the past.](images/workflow/typical-workflow.jpg)\n",
    "\n",
    "- Supervised learning workflow (example with an image as input)\n",
    "\n",
    "![In detail, in a supervised learning example (we'll understand each type in the next section), ](images/workflow/machine-learning-phases.png)"
   ]
  },
  {
   "cell_type": "markdown",
   "metadata": {},
   "source": [
    "## Steps to build a great model\n",
    "\n",
    "\n",
    "![Problem/roi; Data gathering; Exploratory data analysis; Choose algorithm; Data cleaning; Feature engineering; Evaluation; Tunning; Predict/Discover/Execute;](images/workflow/Process-Overview.png)\n",
    "\n",
    "---\n",
    "\n",
    "### Some extra concerns\n",
    " - Bias\n",
    " - Underfitting\n",
    " - Overfitting\n",
    " - Cross validation"
   ]
  },
  {
   "cell_type": "markdown",
   "metadata": {},
   "source": [
    "## Types of Algorithms\n",
    "\n",
    "![](images/workflow/major-types-of-learning.png)\n",
    "\n",
    "---\n",
    "\n",
    "### [Machine Learning Types](http://en.proft.me/2015/12/24/types-machine-learning-algorithms/)\n",
    "\n",
    "- Supervised Learning (predictive modeling, labeled data)\n",
    " - Classification (Diagnose alzheimer positive or negative in image)\n",
    " - Regression (Predict population growth)\n",
    "- Unsupervised Learning (descriptive modeling, unlabeled data)\n",
    " - Clustering (Customer segmentation)\n",
    "  - Association (Product recommendation)\n",
    " - Dimensionality Reduction (Big data visualization, Meaninful compression)\n",
    "- Semi-supervised Learning (mixture of labeled and unlabeled data)\n",
    "- Reinforcement Learning (learn from environment exposure by trial and error)\n",
    "\n",
    "---\n",
    "\n",
    "![](images/types/learning-types-cheat-sheet.jpg)\n",
    "\n",
    "### Exercise!\n",
    "\n",
    "- Find similar Stack Overflow posts\n",
    "- Real time attractive ecommerce discount\n",
    "- Categorize new interview data into jr/mid/sr\n",
    "- Obfuscate sensitive data to later classify\n",
    "- Discover groups of interest in GitHub\n",
    "- Choose best NYSE option to invest\n",
    "- Estimate my house pricing"
   ]
  },
  {
   "cell_type": "markdown",
   "metadata": {},
   "source": [
    "## Examples of algorithms (to explore)\n",
    "\n",
    "![](images/types/algorithms-characteristics-2.jpg)\n",
    "\n",
    "![](images/types/algorithms-characteristics.jpg)\n",
    "\n",
    "---\n",
    "\n",
    "![](images/types/algorithm-cheat-sheet.png)\n",
    "\n",
    "---\n",
    "\n",
    "![](images/types/algorithm-types.jpg)"
   ]
  },
  {
   "cell_type": "markdown",
   "metadata": {},
   "source": [
    "## Some technologies\n",
    "\n",
    "### Programming languages\n",
    "\n",
    "- [**Python**](https://www.python.org/)\n",
    "- [R](https://www.r-project.org/)\n",
    "\n",
    "### Code share and visualization\n",
    "\n",
    "- [**Jupyter Notebook**](http://jupyter.org/)\n",
    "\n",
    "### Data structure packages \n",
    "\n",
    "- [**NumPy**](http://www.numpy.org/) (N-dimensional array package)\n",
    "- [**Pandas**](http://pandas.pydata.org/) (Data frame and data analysis package)\n",
    "\n",
    "### Data visualization\n",
    "\n",
    "- [**matplotlib**](https://matplotlib.org/) (2D plotting package)\n",
    "- [d3](https://d3js.org/)\n",
    "- [Tableau](https://www.tableau.com/) (Data Analysis)\n",
    "\n",
    "### ML algorithms & ecosystem\n",
    "\n",
    "- [**scikit-learn**](http://scikit-learn.org)\n",
    "- [PyML](http://pyml.sourceforge.net/)\n",
    "- [Keras](https://keras.io/)/[Tensor Flow](https://www.tensorflow.org/) (Neural network/Deep learning algorithms)\n",
    "\n",
    "### Distributed data processing\n",
    "\n",
    "- [PySpark](https://spark.apache.org/docs/0.9.0/python-programming-guide.html)/[Spark](https://spark.apache.org/)\n",
    "\n",
    "### AIaaS/MLaaS\n",
    "\n",
    "- [Google Cloud AI](https://cloud.google.com/products/machine-learning/)\n",
    "- [Amazon AI](https://aws.amazon.com/pt/amazon-ai/)\n",
    "- [Azure Machine Learning](https://azure.microsoft.com/pt-br/services/machine-learning/)"
   ]
  }
 ],
 "metadata": {
  "kernelspec": {
   "display_name": "Python 3",
   "language": "python",
   "name": "python3"
  },
  "language_info": {
   "codemirror_mode": {
    "name": "ipython",
    "version": 3
   },
   "file_extension": ".py",
   "mimetype": "text/x-python",
   "name": "python",
   "nbconvert_exporter": "python",
   "pygments_lexer": "ipython3",
   "version": "3.6.1"
  }
 },
 "nbformat": 4,
 "nbformat_minor": 2
}
